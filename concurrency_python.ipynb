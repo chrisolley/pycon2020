{
 "cells": [
  {
   "cell_type": "markdown",
   "metadata": {},
   "source": [
    "## Why concurrency?"
   ]
  },
  {
   "cell_type": "markdown",
   "metadata": {},
   "source": [
    "Processors have typically increased their frequency (i.e. number of operations per logical core) over time. However this has plateaued recently due to physical limitations.\n",
    "\n",
    "Nowadays, we are more focused on increasing the number of logical cores in processors (multiplied by ~10x in recent years)."
   ]
  },
  {
   "cell_type": "markdown",
   "metadata": {},
   "source": [
    "## Computer Architecture"
   ]
  },
  {
   "cell_type": "markdown",
   "metadata": {},
   "source": [
    "Important to bear in mind that accessing RAM is much slower than a CPU cycle, accessing hard drive storage is much slower than accessing RAM, and network requests are even slower than that."
   ]
  },
  {
   "cell_type": "markdown",
   "metadata": {},
   "source": [
    "1 CPU can only run 1 process at a time."
   ]
  },
  {
   "cell_type": "markdown",
   "metadata": {},
   "source": [
    "Q: How did computer games work with single core computers?\n",
    "\n",
    "A: The OS scheduler is able to context switch quickly between processes. Giving you the impression that things are running in parallel but actually not true parallelism (concurrency vs. parallelism)"
   ]
  },
  {
   "cell_type": "markdown",
   "metadata": {},
   "source": [
    "## Multi-threading"
   ]
  },
  {
   "cell_type": "markdown",
   "metadata": {},
   "source": [
    "Idea: spin up multiple workers in your processsor, assign some work to each of them and run them in parallel. E.g. we have 3 x 2s operations which would run serially in 6s or in parallel in 2s."
   ]
  },
  {
   "cell_type": "markdown",
   "metadata": {},
   "source": [
    "Use the `threading` module and the `Thread` class in Python."
   ]
  },
  {
   "cell_type": "markdown",
   "metadata": {},
   "source": [
    "Threads:\n",
    "- All live in the same process.\n",
    "- Can easily access shared data within the process they were spawned in.\n",
    "- Are lightweight"
   ]
  },
  {
   "cell_type": "markdown",
   "metadata": {},
   "source": [
    "*However*"
   ]
  },
  {
   "cell_type": "markdown",
   "metadata": {},
   "source": [
    "This easy access to shared data comes with problems such as race conditions - where threads access and modify outdated data which leads to invalid transactions."
   ]
  },
  {
   "cell_type": "markdown",
   "metadata": {},
   "source": [
    "This can be resolved using thread synchronization such as locks, but this comes with its own set of complications such as the requirement for other developers to remember to use the lock and deadlocks, which is when each thread is waiting for another thread to release a lock and the program stops."
   ]
  },
  {
   "cell_type": "markdown",
   "metadata": {},
   "source": [
    "Summary: writing synchronised, multi-threaded code is hard and prone to errors."
   ]
  },
  {
   "cell_type": "markdown",
   "metadata": {},
   "source": [
    "## The Global Interpreter Lock (GIL)"
   ]
  },
  {
   "cell_type": "markdown",
   "metadata": {},
   "source": [
    "The CPython implementation of Python contains a safety feature known as the Global Interpreter Lock. This prevents threads from running in parallel, to circumvent many of the issues that arise when sharing data across threads."
   ]
  },
  {
   "cell_type": "markdown",
   "metadata": {},
   "source": [
    "I/O bound tasks (e.g. processing an API request) don't require the CPU for most of the task time (see comparison of access times). Therefore they release the GIL and can take advantage of multithreading in Python. However, CPU bound tasks (such as matrix multiplications) will not be sped up by multithreading, in Python."
   ]
  },
  {
   "cell_type": "markdown",
   "metadata": {},
   "source": [
    "Note: this is a feature specifically of CPython and other languages can use multithreading to acheive parallelism in CPU bound tasks."
   ]
  },
  {
   "cell_type": "markdown",
   "metadata": {},
   "source": [
    "Aside: What about NumPy? NumPy is based on C libraries which are able to release the GIL and allows multithreading. This is why pure NumPy based operations are often much faster than their naive Python implementations - under the hood they can achieve parallelism with multiple threads. You can also multithread some NumPy functions that release the GIL using Python."
   ]
  },
  {
   "cell_type": "markdown",
   "metadata": {},
   "source": [
    "## Multiprocessing"
   ]
  },
  {
   "cell_type": "markdown",
   "metadata": {},
   "source": [
    "So, how do we create parallelism in Python for CPU bound tasks?\n",
    "\n",
    "We can use multi-processing."
   ]
  },
  {
   "cell_type": "markdown",
   "metadata": {
    "ExecuteTime": {
     "end_time": "2020-06-22T01:44:43.352200Z",
     "start_time": "2020-06-22T01:44:43.345108Z"
    }
   },
   "source": [
    "Multiprocessing:\n",
    "- Is slower and more resource heavy than multithreading\n",
    "- Doesn't share data as easily as multithreading"
   ]
  },
  {
   "cell_type": "markdown",
   "metadata": {},
   "source": [
    "When multiprocessing, we spawn a new process for every task, which has its own data, memory, file descriptors, etc. By default the data is copied from the original process."
   ]
  },
  {
   "cell_type": "markdown",
   "metadata": {},
   "source": [
    "However, there is no shared data by default and so we overcome the GIL."
   ]
  },
  {
   "cell_type": "markdown",
   "metadata": {},
   "source": [
    "In Python, we can use the `multiprocessing` module and the `Process` class"
   ]
  },
  {
   "cell_type": "code",
   "execution_count": 1,
   "metadata": {
    "ExecuteTime": {
     "end_time": "2020-06-22T06:32:58.225688Z",
     "start_time": "2020-06-22T06:32:58.213115Z"
    }
   },
   "outputs": [],
   "source": [
    "import multiprocessing as mp\n",
    "from multiprocessing import Process\n",
    "import random\n",
    "import time"
   ]
  },
  {
   "cell_type": "code",
   "execution_count": 2,
   "metadata": {
    "ExecuteTime": {
     "end_time": "2020-06-22T06:32:58.238700Z",
     "start_time": "2020-06-22T06:32:58.232247Z"
    }
   },
   "outputs": [],
   "source": [
    "mp.set_start_method('fork')"
   ]
  },
  {
   "cell_type": "code",
   "execution_count": 3,
   "metadata": {
    "ExecuteTime": {
     "end_time": "2020-06-22T06:32:58.255605Z",
     "start_time": "2020-06-22T06:32:58.245657Z"
    }
   },
   "outputs": [],
   "source": [
    "def is_prime(n):\n",
    "    if n in (2, 3):\n",
    "        return True\n",
    "    if n % 2 == 0:\n",
    "        return False\n",
    "    for divisor in range(3, n, 2):\n",
    "        if n % divisor == 0:\n",
    "            return False\n",
    "    return True"
   ]
  },
  {
   "cell_type": "code",
   "execution_count": 4,
   "metadata": {
    "ExecuteTime": {
     "end_time": "2020-06-22T06:32:58.270439Z",
     "start_time": "2020-06-22T06:32:58.261793Z"
    }
   },
   "outputs": [],
   "source": [
    "def check_prime_worker(number):\n",
    "    if is_prime(number):\n",
    "        print(f'{number} is prime', flush=True)\n",
    "    else:\n",
    "        print(f'{number} is not prime', flush=True)"
   ]
  },
  {
   "cell_type": "code",
   "execution_count": 5,
   "metadata": {
    "ExecuteTime": {
     "end_time": "2020-06-22T06:32:58.283139Z",
     "start_time": "2020-06-22T06:32:58.274447Z"
    }
   },
   "outputs": [],
   "source": [
    "numbers = [15492781, 15492787, 15492803, 15492811, 15492810, 15494819, 15494623, 15495941, 15492859, 15527509]"
   ]
  },
  {
   "cell_type": "code",
   "execution_count": 6,
   "metadata": {
    "ExecuteTime": {
     "end_time": "2020-06-22T06:33:02.810096Z",
     "start_time": "2020-06-22T06:32:58.287075Z"
    }
   },
   "outputs": [
    {
     "name": "stdout",
     "output_type": "stream",
     "text": [
      "15492781 is prime\n",
      "15492787 is prime\n",
      "15492803 is prime\n",
      "15492811 is prime\n",
      "15492810 is not prime\n",
      "15494819 is not prime\n",
      "15494623 is prime\n",
      "15495941 is prime\n",
      "15492859 is prime\n",
      "15527509 is prime\n"
     ]
    }
   ],
   "source": [
    "[check_prime_worker(n) for n in numbers];"
   ]
  },
  {
   "cell_type": "code",
   "execution_count": 7,
   "metadata": {
    "ExecuteTime": {
     "end_time": "2020-06-22T06:33:02.822450Z",
     "start_time": "2020-06-22T06:33:02.812922Z"
    }
   },
   "outputs": [],
   "source": [
    "processes = [Process(target=check_prime_worker, args=(n,)) for n in numbers]"
   ]
  },
  {
   "cell_type": "code",
   "execution_count": 8,
   "metadata": {
    "ExecuteTime": {
     "end_time": "2020-06-22T06:33:02.842033Z",
     "start_time": "2020-06-22T06:33:02.828948Z"
    }
   },
   "outputs": [],
   "source": [
    "start = time.time()"
   ]
  },
  {
   "cell_type": "code",
   "execution_count": 9,
   "metadata": {
    "ExecuteTime": {
     "end_time": "2020-06-22T06:33:02.958801Z",
     "start_time": "2020-06-22T06:33:02.846954Z"
    }
   },
   "outputs": [
    {
     "name": "stdout",
     "output_type": "stream",
     "text": [
      "15492810 is not prime\n",
      "15494819 is not prime\n",
      "15527509 is prime15495941 is prime15492803 is prime\n",
      "\n",
      "\n",
      "15492781 is prime15492859 is prime15492811 is prime\n",
      "\n",
      "15492787 is prime\n",
      "15494623 is prime\n",
      "\n"
     ]
    }
   ],
   "source": [
    "[p.start() for p in processes];"
   ]
  },
  {
   "cell_type": "code",
   "execution_count": 10,
   "metadata": {
    "ExecuteTime": {
     "end_time": "2020-06-22T06:33:05.561665Z",
     "start_time": "2020-06-22T06:33:03.054649Z"
    }
   },
   "outputs": [],
   "source": [
    "[p.join() for p in processes];"
   ]
  },
  {
   "cell_type": "code",
   "execution_count": 11,
   "metadata": {
    "ExecuteTime": {
     "end_time": "2020-06-22T06:33:05.591811Z",
     "start_time": "2020-06-22T06:33:05.567838Z"
    }
   },
   "outputs": [
    {
     "data": {
      "text/plain": [
       "2.7395849227905273"
      ]
     },
     "execution_count": 11,
     "metadata": {},
     "output_type": "execute_result"
    }
   ],
   "source": [
    "time.time() - start"
   ]
  },
  {
   "cell_type": "code",
   "execution_count": 12,
   "metadata": {
    "ExecuteTime": {
     "end_time": "2020-06-22T06:33:05.612652Z",
     "start_time": "2020-06-22T06:33:05.603067Z"
    }
   },
   "outputs": [],
   "source": [
    "[p.close() for p in processes];"
   ]
  },
  {
   "cell_type": "markdown",
   "metadata": {},
   "source": [
    "Note that here we were not able to share data across processes and instead resorted to printing out the results which is clearly not ideal for a real program.\n",
    "\n",
    "One option to share data between processes is to use queues, which can be used to pull in tasks and add the results of completing the task. \n",
    "\n",
    "The `Pool` class simplifies this and allows some data sharing to occur 'behind the scenes' using the `map` and `map_async` methods. Using a context manager also takes care of joining and closing all the processes in the pool."
   ]
  },
  {
   "cell_type": "code",
   "execution_count": 13,
   "metadata": {
    "ExecuteTime": {
     "end_time": "2020-06-22T06:33:05.624554Z",
     "start_time": "2020-06-22T06:33:05.614594Z"
    }
   },
   "outputs": [],
   "source": [
    "start = time.time()"
   ]
  },
  {
   "cell_type": "code",
   "execution_count": 14,
   "metadata": {
    "ExecuteTime": {
     "end_time": "2020-06-22T06:33:08.292420Z",
     "start_time": "2020-06-22T06:33:05.634130Z"
    }
   },
   "outputs": [],
   "source": [
    "with mp.Pool(processes=4) as pool:\n",
    "    results = pool.map(is_prime, numbers)"
   ]
  },
  {
   "cell_type": "code",
   "execution_count": 15,
   "metadata": {
    "ExecuteTime": {
     "end_time": "2020-06-22T06:33:08.302959Z",
     "start_time": "2020-06-22T06:33:08.294997Z"
    }
   },
   "outputs": [
    {
     "data": {
      "text/plain": [
       "2.681166172027588"
      ]
     },
     "execution_count": 15,
     "metadata": {},
     "output_type": "execute_result"
    }
   ],
   "source": [
    "time.time() - start"
   ]
  },
  {
   "cell_type": "code",
   "execution_count": 16,
   "metadata": {
    "ExecuteTime": {
     "end_time": "2020-06-22T06:33:08.312088Z",
     "start_time": "2020-06-22T06:33:08.305229Z"
    }
   },
   "outputs": [
    {
     "data": {
      "text/plain": [
       "'Found 8 primes out of the 10 numbers'"
      ]
     },
     "execution_count": 16,
     "metadata": {},
     "output_type": "execute_result"
    }
   ],
   "source": [
    "f\"Found {sum(results)} primes out of the {len(results)} numbers\""
   ]
  },
  {
   "cell_type": "markdown",
   "metadata": {},
   "source": [
    "A limitation of the multiprocessing `map` method is that you can only pass a single variable argument to the function being passed to the pool. To overcome this limitation you can instead use `starmap`."
   ]
  },
  {
   "cell_type": "code",
   "execution_count": 17,
   "metadata": {
    "ExecuteTime": {
     "end_time": "2020-06-22T06:33:08.330885Z",
     "start_time": "2020-06-22T06:33:08.315261Z"
    }
   },
   "outputs": [],
   "source": [
    "def is_prime(a, b):\n",
    "    n = a + b\n",
    "    if n in (2, 3):\n",
    "        return True\n",
    "    if n % 2 == 0:\n",
    "        return False\n",
    "    for divisor in range(3, n, 2):\n",
    "        if n % divisor == 0:\n",
    "            return False\n",
    "    return True"
   ]
  },
  {
   "cell_type": "code",
   "execution_count": 18,
   "metadata": {
    "ExecuteTime": {
     "end_time": "2020-06-22T06:33:08.366013Z",
     "start_time": "2020-06-22T06:33:08.357871Z"
    }
   },
   "outputs": [],
   "source": [
    "numbers = [(15492780, 1), \n",
    "           (15492780, 7), \n",
    "           (15492799, 104), \n",
    "           (15492800, 11), \n",
    "           (15492800, 10), \n",
    "           (15494810, 9), \n",
    "           (15494619, 4), \n",
    "           (15495938, 3), \n",
    "           (15492858, 1), \n",
    "           (15527507, 2)]"
   ]
  },
  {
   "cell_type": "code",
   "execution_count": 19,
   "metadata": {
    "ExecuteTime": {
     "end_time": "2020-06-22T06:33:10.626598Z",
     "start_time": "2020-06-22T06:33:08.369888Z"
    }
   },
   "outputs": [],
   "source": [
    "with mp.Pool(processes=4) as pool:\n",
    "    results = pool.starmap(is_prime, numbers)"
   ]
  },
  {
   "cell_type": "code",
   "execution_count": 20,
   "metadata": {
    "ExecuteTime": {
     "end_time": "2020-06-22T06:33:10.636585Z",
     "start_time": "2020-06-22T06:33:10.629341Z"
    }
   },
   "outputs": [
    {
     "data": {
      "text/plain": [
       "[True, True, False, True, False, False, True, True, True, True]"
      ]
     },
     "execution_count": 20,
     "metadata": {},
     "output_type": "execute_result"
    }
   ],
   "source": [
    "results"
   ]
  },
  {
   "cell_type": "markdown",
   "metadata": {},
   "source": [
    "You can also use `functools.partial` with the standard `map` method. (But it seems like only if the additional arguments are fixed?)"
   ]
  },
  {
   "cell_type": "code",
   "execution_count": 21,
   "metadata": {
    "ExecuteTime": {
     "end_time": "2020-06-22T06:33:10.644196Z",
     "start_time": "2020-06-22T06:33:10.639602Z"
    }
   },
   "outputs": [],
   "source": [
    "from functools import partial"
   ]
  },
  {
   "cell_type": "code",
   "execution_count": 22,
   "metadata": {
    "ExecuteTime": {
     "end_time": "2020-06-22T06:33:10.661860Z",
     "start_time": "2020-06-22T06:33:10.647538Z"
    }
   },
   "outputs": [],
   "source": [
    "numbers = [15492781, 15492787, 15492803, 15492811, 15492810, 15494819, 15494623, 15495941, 15492859, 15527509]\n",
    "B = 2"
   ]
  },
  {
   "cell_type": "code",
   "execution_count": 23,
   "metadata": {
    "ExecuteTime": {
     "end_time": "2020-06-22T06:33:11.479632Z",
     "start_time": "2020-06-22T06:33:10.679613Z"
    }
   },
   "outputs": [],
   "source": [
    "with mp.Pool(processes=4) as pool:\n",
    "    results = pool.map(partial(is_prime, b=B), numbers)"
   ]
  },
  {
   "cell_type": "markdown",
   "metadata": {},
   "source": [
    "## `concurrent.futures`"
   ]
  },
  {
   "cell_type": "markdown",
   "metadata": {},
   "source": [
    "The `concurrent.futures` library is a relatively recent addition to the standard library that provides a high-level API for multithreading and multiprocessing."
   ]
  },
  {
   "cell_type": "code",
   "execution_count": 24,
   "metadata": {
    "ExecuteTime": {
     "end_time": "2020-06-22T06:33:11.490527Z",
     "start_time": "2020-06-22T06:33:11.483170Z"
    }
   },
   "outputs": [],
   "source": [
    "import concurrent.futures as cf\n",
    "from concurrent.futures import ProcessPoolExecutor"
   ]
  },
  {
   "cell_type": "code",
   "execution_count": 25,
   "metadata": {
    "ExecuteTime": {
     "end_time": "2020-06-22T06:33:11.499113Z",
     "start_time": "2020-06-22T06:33:11.492682Z"
    }
   },
   "outputs": [],
   "source": [
    "def is_prime(n):\n",
    "    if n in (2, 3):\n",
    "        return True\n",
    "    if n % 2 == 0:\n",
    "        return False\n",
    "    for divisor in range(3, n, 2):\n",
    "        if n % divisor == 0:\n",
    "            return False\n",
    "    return True"
   ]
  },
  {
   "cell_type": "code",
   "execution_count": 26,
   "metadata": {
    "ExecuteTime": {
     "end_time": "2020-06-22T06:33:11.507982Z",
     "start_time": "2020-06-22T06:33:11.502257Z"
    }
   },
   "outputs": [],
   "source": [
    "numbers = [15492781, 15492787, 15492803, 15492811, 15492810, 15494819, 15494623, 15495941, 15492859, 15527509]"
   ]
  },
  {
   "cell_type": "markdown",
   "metadata": {},
   "source": [
    "The entry points to the library are  PoolExecutors (which can be a `ThreadPoolExecutor` or a `ProcessPoolExecutor`, the APIs are identical)"
   ]
  },
  {
   "cell_type": "markdown",
   "metadata": {},
   "source": [
    "A similar map method is defined"
   ]
  },
  {
   "cell_type": "code",
   "execution_count": 27,
   "metadata": {
    "ExecuteTime": {
     "end_time": "2020-06-22T06:33:14.362173Z",
     "start_time": "2020-06-22T06:33:11.511228Z"
    }
   },
   "outputs": [],
   "source": [
    "with ProcessPoolExecutor(max_workers=4) as ex:\n",
    "    results = ex.map(is_prime, numbers)"
   ]
  },
  {
   "cell_type": "code",
   "execution_count": 28,
   "metadata": {
    "ExecuteTime": {
     "end_time": "2020-06-22T06:33:14.372999Z",
     "start_time": "2020-06-22T06:33:14.364716Z"
    }
   },
   "outputs": [
    {
     "data": {
      "text/plain": [
       "[True, True, True, True, False, False, True, True, True, True]"
      ]
     },
     "execution_count": 28,
     "metadata": {},
     "output_type": "execute_result"
    }
   ],
   "source": [
    "list(results)"
   ]
  },
  {
   "cell_type": "markdown",
   "metadata": {},
   "source": [
    "To pass multiple arguments to the multiprocessed/threaded function, we can use the `submit` and `as_completed` pattern."
   ]
  },
  {
   "cell_type": "code",
   "execution_count": 29,
   "metadata": {
    "ExecuteTime": {
     "end_time": "2020-06-22T06:33:14.382210Z",
     "start_time": "2020-06-22T06:33:14.375483Z"
    }
   },
   "outputs": [],
   "source": [
    "def is_prime(a, b):\n",
    "    n = a + b\n",
    "    if n in (2, 3):\n",
    "        return True\n",
    "    if n % 2 == 0:\n",
    "        return False\n",
    "    for divisor in range(3, n, 2):\n",
    "        if n % divisor == 0:\n",
    "            return False\n",
    "    return True"
   ]
  },
  {
   "cell_type": "code",
   "execution_count": 30,
   "metadata": {
    "ExecuteTime": {
     "end_time": "2020-06-22T06:33:14.391966Z",
     "start_time": "2020-06-22T06:33:14.385873Z"
    }
   },
   "outputs": [],
   "source": [
    "numbers = [(15492780, 1), \n",
    "           (15492780, 7), \n",
    "           (15492799, 104), \n",
    "           (15492800, 11), \n",
    "           (15492800, 10), \n",
    "           (15494810, 9), \n",
    "           (15494619, 4), \n",
    "           (15495938, 3), \n",
    "           (15492858, 1), \n",
    "           (15527507, 2)]"
   ]
  },
  {
   "cell_type": "code",
   "execution_count": 31,
   "metadata": {
    "ExecuteTime": {
     "end_time": "2020-06-22T06:33:16.861948Z",
     "start_time": "2020-06-22T06:33:14.403413Z"
    }
   },
   "outputs": [],
   "source": [
    "with ProcessPoolExecutor(max_workers=4) as ex:\n",
    "    futures = [ex.submit(is_prime, a, b) for a, b in numbers]\n",
    "    results = [future.result() for future in cf.as_completed(futures)]"
   ]
  },
  {
   "cell_type": "code",
   "execution_count": 32,
   "metadata": {
    "ExecuteTime": {
     "end_time": "2020-06-22T06:33:16.872466Z",
     "start_time": "2020-06-22T06:33:16.864526Z"
    }
   },
   "outputs": [
    {
     "data": {
      "text/plain": [
       "[False, False, False, True, True, True, True, True, True, True]"
      ]
     },
     "execution_count": 32,
     "metadata": {},
     "output_type": "execute_result"
    }
   ],
   "source": [
    "results"
   ]
  },
  {
   "cell_type": "markdown",
   "metadata": {},
   "source": [
    "Further investigation:"
   ]
  },
  {
   "cell_type": "markdown",
   "metadata": {},
   "source": [
    "- What about Numba?\n",
    "- What about Dask?\n",
    "- What about Ray?\n",
    "- What about Cython?"
   ]
  }
 ],
 "metadata": {
  "kernelspec": {
   "display_name": "Python 3",
   "language": "python",
   "name": "python3"
  },
  "language_info": {
   "codemirror_mode": {
    "name": "ipython",
    "version": 3
   },
   "file_extension": ".py",
   "mimetype": "text/x-python",
   "name": "python",
   "nbconvert_exporter": "python",
   "pygments_lexer": "ipython3",
   "version": "3.8.2"
  },
  "toc": {
   "base_numbering": 1,
   "nav_menu": {},
   "number_sections": true,
   "sideBar": true,
   "skip_h1_title": false,
   "title_cell": "Table of Contents",
   "title_sidebar": "Contents",
   "toc_cell": false,
   "toc_position": {},
   "toc_section_display": true,
   "toc_window_display": false
  }
 },
 "nbformat": 4,
 "nbformat_minor": 4
}
